{
 "cells": [
  {
   "cell_type": "code",
   "execution_count": 3,
   "metadata": {
    "id": "KQqtNuVovOse"
   },
   "outputs": [],
   "source": [
    "import librosa\n",
    "import IPython.display as ipd\n",
    "from librosa.feature.spectral import spectral_centroid\n",
    "import sklearn\n",
    "import numpy as np\n",
    "import soundfile"
   ]
  },
  {
   "cell_type": "code",
   "execution_count": 154,
   "metadata": {},
   "outputs": [],
   "source": [
    "# load mel\n",
    "mel = np.load(\"C:\\\\Users\\\\HP\\\\Desktop\\\\mtvs-ai\\\\9월프젝\\\\arena_mel\\\\0\\\\0.npy\")\n",
    "sr =16000\n",
    "#hop_length = int( np.ceil(sr*0.01) )\n",
    "#win_length = int( np.ceil(sr*0.025) )\n",
    "#n_fft = int( np.ceil(sr*0.025) )\n",
    "frame_length=512\n",
    "hop_length = 256\n",
    "win_length = 512\n",
    "n_fft =512\n",
    "pad_mode = 'reflect'\n",
    "window='hann'\n",
    "power=2.0\n",
    "n_iter=32\n",
    "norm='slaney'\n",
    "#numbands=48, sampleRate=16000, frameSize=512, hopSize=256, window='hann', weighting='linear', warpingFormula='slaneyMel', normalize='unit_tri'\n"
   ]
  },
  {
   "cell_type": "code",
   "execution_count": 172,
   "metadata": {
    "id": "k_0A5qZI_0KT"
   },
   "outputs": [],
   "source": [
    "def music_features (song_id, song_name, genre, mel):\n",
    "    attr = {'song id' : song_id, 'song name' : song_name, 'genre' : genre}\n",
    "    \n",
    "    stft =librosa.feature.inverse.mel_to_stft(mel, sr=sr, n_fft=n_fft, power=power, norm=norm)\n",
    "    ms = np.abs(stft)## magnitude spectrogram\n",
    "    ps = np.power(stft,2) ## power spectrogram\n",
    "\n",
    "    chromagram =librosa.feature.chroma_stft(y=None, sr=sr, S=ps, norm=np.inf, n_fft=n_fft, \n",
    "                                            hop_length=hop_length, win_length=win_length,\n",
    "                                            window=window, center=True, pad_mode=pad_mode,\n",
    "                                            tuning=None, n_chroma=12)\n",
    "    chroma_stft_mean = chromagram.mean()\n",
    "    chroma_stft_var = chromagram.var()\n",
    "    attr['chroma_stft_mean'] = chroma_stft_mean\n",
    "    attr['chroma_stft_var'] = chroma_stft_var\n",
    "\n",
    "    rms = librosa.feature.rms(y=None, S=ms, frame_length=frame_length, hop_length=hop_length, center=True, pad_mode=pad_mode)\n",
    "    rms_mean = rms.mean()\n",
    "    rms_var = rms.var()\n",
    "    attr['rms_mean'] = rms_mean\n",
    "    attr['rms_var'] = rms_var\n",
    "\n",
    "    spectral_centroids = librosa.feature.spectral_centroid(y=None, sr=sr, S=ms, \n",
    "                                                           n_fft=n_fft, hop_length=hop_length, freq=None, \n",
    "                                                           win_length=win_length, window=window, \n",
    "                                                           center=True, pad_mode=pad_mode)\n",
    "    spectral_centroid_mean = spectral_centroids.mean()\n",
    "    spectral_centroid_var = spectral_centroids.var()\n",
    "    attr['spectral_centroid_mean'] = spectral_centroid_mean\n",
    "    attr['spectral_centroid_var'] = spectral_centroid_var\n",
    "    \n",
    "    spectral_bandwidth = librosa.feature.spectral_bandwidth(y=None, sr=sr, S=ms, n_fft=n_fft, \n",
    "                                                            hop_length=hop_length, win_length=win_length, window=window, \n",
    "                                                            center=True, pad_mode=pad_mode, freq=None, \n",
    "                                                            centroid= spectral_centroids, norm=True, p=power)\n",
    "    spectral_bandwidth_mean = spectral_bandwidth.mean()\n",
    "    spectral_bandwidth_var = spectral_bandwidth.var()\n",
    "    attr['spectral_bandwidth_mean'] = spectral_bandwidth_mean\n",
    "    attr['spectral_bandwidth_var'] = spectral_bandwidth_var\n",
    "\n",
    "    spectral_rolloff = librosa.feature.spectral_rolloff(y=None, sr=sr, S=ms, n_fft=n_fft, \n",
    "                                                        hop_length=hop_length, win_length=win_length, \n",
    "                                                        window=window, center=True, pad_mode=pad_mode, \n",
    "                                                        freq=None, roll_percent=0.85)\n",
    "    rolloff_mean = spectral_rolloff.mean()\n",
    "    rolloff_var = spectral_rolloff.var()\n",
    "    attr['rolloff_mean'] = spectral_bandwidth_mean\n",
    "    attr['rolloff_var'] = spectral_bandwidth_var\n",
    "    \n",
    "        \n",
    "    mfcc_s = librosa.feature.mfcc(y=None, sr=sr, S=mel, n_mfcc=20, dct_type=2, lifter=40)\n",
    "    i = 0\n",
    "    for mfcc in mfcc_s:\n",
    "        attr['mfcc_mean_{}'.format(i)] = globals()['mfcc_mean_{}'.format(i)] = mfcc.mean()\n",
    "        attr['mfcc_var_{}'.format(i)] = globals()['mfcc_var_{}'.format(i)] = mfcc.var()\n",
    "        i+=1\n",
    "\n",
    " \n",
    "    \n",
    "    \n",
    "    onset_envelope = librosa.onset.onset_strength(y=None, sr=sr, S=mel, lag=1, max_size=1, \n",
    "                                 ref=None, detrend=False, center=True,\n",
    "                                 feature=None, aggregate=None)\n",
    "\n",
    "#########rhythm features#########################################################################\n",
    "    \n",
    "    tempo_gram = librosa.feature.fourier_tempogram(y=None, sr=sr, onset_envelope=onset_envelope,\n",
    "                                                   hop_length=hop_length, win_length=win_length,\n",
    "                                                   center=True, window=window)\n",
    "    tempogram_mean = tempo_gram.mean()\n",
    "    tempogram_var = tempo_gram.var()\n",
    "    attr['tempogram_mean'] = tempogram_mean\n",
    "    attr['tempogram_var'] = tempogram_var\n",
    "    \n",
    "    return attr "
   ]
  },
  {
   "cell_type": "code",
   "execution_count": 61,
   "metadata": {},
   "outputs": [],
   "source": [
    "import pandas as pd\n",
    "\n",
    "song_genre_df = pd.read_csv(\"C:\\\\Users\\\\HP\\\\Desktop\\\\mtvs-ai\\\\9월프젝\\\\csv\\\\song_genre_final_final.csv\")"
   ]
  },
  {
   "cell_type": "code",
   "execution_count": 173,
   "metadata": {},
   "outputs": [
    {
     "data": {
      "text/html": [
       "<div>\n",
       "<style scoped>\n",
       "    .dataframe tbody tr th:only-of-type {\n",
       "        vertical-align: middle;\n",
       "    }\n",
       "\n",
       "    .dataframe tbody tr th {\n",
       "        vertical-align: top;\n",
       "    }\n",
       "\n",
       "    .dataframe thead th {\n",
       "        text-align: right;\n",
       "    }\n",
       "</style>\n",
       "<table border=\"1\" class=\"dataframe\">\n",
       "  <thead>\n",
       "    <tr style=\"text-align: right;\">\n",
       "      <th></th>\n",
       "      <th>song id</th>\n",
       "      <th>song name</th>\n",
       "      <th>genre</th>\n",
       "      <th>chroma_stft_mean</th>\n",
       "      <th>chroma_stft_var</th>\n",
       "      <th>rms_mean</th>\n",
       "      <th>rms_var</th>\n",
       "      <th>spectral_centroid_mean</th>\n",
       "      <th>spectral_centroid_var</th>\n",
       "      <th>spectral_bandwidth_mean</th>\n",
       "      <th>...</th>\n",
       "      <th>mfcc_mean_16</th>\n",
       "      <th>mfcc_var_16</th>\n",
       "      <th>mfcc_mean_17</th>\n",
       "      <th>mfcc_var_17</th>\n",
       "      <th>mfcc_mean_18</th>\n",
       "      <th>mfcc_var_18</th>\n",
       "      <th>mfcc_mean_19</th>\n",
       "      <th>mfcc_var_19</th>\n",
       "      <th>tempogram_mean</th>\n",
       "      <th>tempogram_var</th>\n",
       "    </tr>\n",
       "  </thead>\n",
       "  <tbody>\n",
       "    <tr>\n",
       "      <th>0</th>\n",
       "      <td>0.0</td>\n",
       "      <td>Feelings</td>\n",
       "      <td>POP</td>\n",
       "      <td>0.345399</td>\n",
       "      <td>0.126025</td>\n",
       "      <td>0.04889</td>\n",
       "      <td>0.002256</td>\n",
       "      <td>198.004306</td>\n",
       "      <td>55194.982338</td>\n",
       "      <td>95.837523</td>\n",
       "      <td>...</td>\n",
       "      <td>-72.842896</td>\n",
       "      <td>13304.270508</td>\n",
       "      <td>-36.774445</td>\n",
       "      <td>16541.097656</td>\n",
       "      <td>-82.672569</td>\n",
       "      <td>13456.097656</td>\n",
       "      <td>17.78616</td>\n",
       "      <td>15425.751953</td>\n",
       "      <td>0.569983+0.003354j</td>\n",
       "      <td>688.536682</td>\n",
       "    </tr>\n",
       "  </tbody>\n",
       "</table>\n",
       "<p>1 rows × 55 columns</p>\n",
       "</div>"
      ],
      "text/plain": [
       "   song id song name genre  chroma_stft_mean  chroma_stft_var  rms_mean  \\\n",
       "0      0.0  Feelings   POP          0.345399         0.126025   0.04889   \n",
       "\n",
       "    rms_var  spectral_centroid_mean  spectral_centroid_var  \\\n",
       "0  0.002256              198.004306           55194.982338   \n",
       "\n",
       "   spectral_bandwidth_mean  ...  mfcc_mean_16   mfcc_var_16  mfcc_mean_17  \\\n",
       "0                95.837523  ...    -72.842896  13304.270508    -36.774445   \n",
       "\n",
       "    mfcc_var_17  mfcc_mean_18   mfcc_var_18  mfcc_mean_19   mfcc_var_19  \\\n",
       "0  16541.097656    -82.672569  13456.097656      17.78616  15425.751953   \n",
       "\n",
       "       tempogram_mean  tempogram_var  \n",
       "0  0.569983+0.003354j     688.536682  \n",
       "\n",
       "[1 rows x 55 columns]"
      ]
     },
     "execution_count": 173,
     "metadata": {},
     "output_type": "execute_result"
    }
   ],
   "source": [
    "attr = music_features(song_genre_df['id'][0],\n",
    "                       song_genre_df['song_name'][0],\n",
    "                       song_genre_df['장르'][0],\n",
    "                       mel)\n",
    "df = pd.DataFrame()\n",
    "df = df.append(attr, ignore_index=True)\n",
    "df"
   ]
  },
  {
   "cell_type": "markdown",
   "metadata": {
    "id": "0MzR0Jl1A5bm"
   },
   "source": [
    "chroma_stft_mean \n",
    "chroma_stft_var \n",
    "-> power spectrogram 필요\n",
    "librosa.core.amplitude_to_db(S, ref=1.0, amin=1e-05, top_db=80.0)\n",
    "librosa.core.db_to_power(S_db, ref=1.0)"
   ]
  },
  {
   "cell_type": "code",
   "execution_count": null,
   "metadata": {},
   "outputs": [],
   "source": [
    "# 결과값 pandas dataframe 생성"
   ]
  },
  {
   "cell_type": "code",
   "execution_count": 52,
   "metadata": {},
   "outputs": [
    {
     "ename": "KeyboardInterrupt",
     "evalue": "",
     "output_type": "error",
     "traceback": [
      "\u001b[1;31m---------------------------------------------------------------------------\u001b[0m",
      "\u001b[1;31mKeyboardInterrupt\u001b[0m                         Traceback (most recent call last)",
      "\u001b[1;32m~\\AppData\\Local\\Temp\\ipykernel_3940\\2392176783.py\u001b[0m in \u001b[0;36m<module>\u001b[1;34m\u001b[0m\n\u001b[0;32m      7\u001b[0m     \u001b[1;32mfor\u001b[0m \u001b[0mf\u001b[0m \u001b[1;32min\u001b[0m \u001b[0mos\u001b[0m\u001b[1;33m.\u001b[0m\u001b[0mlistdir\u001b[0m\u001b[1;33m(\u001b[0m\u001b[0mfiles_path\u001b[0m\u001b[1;33m)\u001b[0m\u001b[1;33m:\u001b[0m\u001b[1;33m\u001b[0m\u001b[0m\n\u001b[0;32m      8\u001b[0m         \u001b[0mf_path\u001b[0m \u001b[1;33m=\u001b[0m \u001b[0mos\u001b[0m\u001b[1;33m.\u001b[0m\u001b[0mpath\u001b[0m\u001b[1;33m.\u001b[0m\u001b[0mjoin\u001b[0m\u001b[1;33m(\u001b[0m\u001b[0mfiles_path\u001b[0m\u001b[1;33m,\u001b[0m\u001b[0mf\u001b[0m\u001b[1;33m)\u001b[0m\u001b[1;33m\u001b[0m\u001b[0m\n\u001b[1;32m----> 9\u001b[1;33m         \u001b[0mmel\u001b[0m \u001b[1;33m=\u001b[0m \u001b[0mnp\u001b[0m\u001b[1;33m.\u001b[0m\u001b[0mload\u001b[0m\u001b[1;33m(\u001b[0m\u001b[0mf_path\u001b[0m\u001b[1;33m)\u001b[0m\u001b[1;33m\u001b[0m\u001b[0m\n\u001b[0m\u001b[0;32m     10\u001b[0m \u001b[1;33m\u001b[0m\u001b[0m\n",
      "\u001b[1;32m~\\AppData\\Roaming\\Python\\Python37\\site-packages\\numpy\\lib\\npyio.py\u001b[0m in \u001b[0;36mload\u001b[1;34m(file, mmap_mode, allow_pickle, fix_imports, encoding)\u001b[0m\n\u001b[0;32m    415\u001b[0m             \u001b[0mown_fid\u001b[0m \u001b[1;33m=\u001b[0m \u001b[1;32mFalse\u001b[0m\u001b[1;33m\u001b[0m\u001b[0m\n\u001b[0;32m    416\u001b[0m         \u001b[1;32melse\u001b[0m\u001b[1;33m:\u001b[0m\u001b[1;33m\u001b[0m\u001b[0m\n\u001b[1;32m--> 417\u001b[1;33m             \u001b[0mfid\u001b[0m \u001b[1;33m=\u001b[0m \u001b[0mstack\u001b[0m\u001b[1;33m.\u001b[0m\u001b[0menter_context\u001b[0m\u001b[1;33m(\u001b[0m\u001b[0mopen\u001b[0m\u001b[1;33m(\u001b[0m\u001b[0mos_fspath\u001b[0m\u001b[1;33m(\u001b[0m\u001b[0mfile\u001b[0m\u001b[1;33m)\u001b[0m\u001b[1;33m,\u001b[0m \u001b[1;34m\"rb\"\u001b[0m\u001b[1;33m)\u001b[0m\u001b[1;33m)\u001b[0m\u001b[1;33m\u001b[0m\u001b[0m\n\u001b[0m\u001b[0;32m    418\u001b[0m             \u001b[0mown_fid\u001b[0m \u001b[1;33m=\u001b[0m \u001b[1;32mTrue\u001b[0m\u001b[1;33m\u001b[0m\u001b[0m\n\u001b[0;32m    419\u001b[0m \u001b[1;33m\u001b[0m\u001b[0m\n",
      "\u001b[1;31mKeyboardInterrupt\u001b[0m: "
     ]
    }
   ],
   "source": [
    "import os\n",
    "import pandas as pd\n",
    "\n",
    "melon_features = pd.DataFrame() # 데이터 프레임 선언\n",
    "idx = 0\n",
    "dir_path = \"C:\\\\Users\\\\HP\\\\Desktop\\\\mtvs-ai\\\\9월프젝\\\\arena_mel\\\\\"\n",
    "dir_list = os.listdir(dir_path)\n",
    "for d in dir_list:\n",
    "    files_path = os.path.join(dir_path, d + '\\\\')\n",
    "    for f in os.listdir(files_path):\n",
    "        \n",
    "        f_path = os.path.join(files_path,f)\n",
    "        mel_spectrogram = np.load(f_path)\n",
    "        \n",
    "        features_dic = music_features(song_genre_df['id'][idx],\n",
    "                       song_genre_df['song_name'][idx],\n",
    "                       song_genre_df['장르'][idx],\n",
    "                       mel_spectrogram)\n",
    "        \n",
    "        melon_features = melon_features.append(features_dic, ignore_index=True)\n",
    "        idx +=1\n",
    "     \n"
   ]
  },
  {
   "cell_type": "code",
   "execution_count": null,
   "metadata": {},
   "outputs": [],
   "source": [
    "# 데이터 프레임 csv로 저장"
   ]
  },
  {
   "cell_type": "markdown",
   "metadata": {},
   "source": [
    "## 코사인 유사도 구하기"
   ]
  },
  {
   "cell_type": "code",
   "execution_count": null,
   "metadata": {},
   "outputs": [],
   "source": [
    "# csv load\n",
    "\n",
    "df_30 = pd.read_csv('./features_30_sec_.csv', index_col = 'filename')"
   ]
  },
  {
   "cell_type": "code",
   "execution_count": null,
   "metadata": {},
   "outputs": [],
   "source": [
    "def normalize(x, axis=0):\n",
    "    return sklearn.preprocessing.minmax_scale(x, axis = axis)\n",
    "\n",
    "df_30 = df_30.drop(columns=['length', 'label'])\n",
    "df_30_scaled = sklearn.preprocessing.scale(df_30)\n",
    "sim_df = pd.DataFrame(df_30_scaled, columns=df_30.columns)\n",
    "sim_df.head()"
   ]
  },
  {
   "cell_type": "code",
   "execution_count": null,
   "metadata": {},
   "outputs": [],
   "source": [
    "from sklearn.metrics.pairwise import cosine_similarity\n",
    "\n",
    "similarity = cosine_similarity(df_30) # 모든 파일 과 목소리 하나의 코사인 유사도 구하기\n",
    "\n",
    "music = sim_df['songfile_name'].sort_values(ascending = False)\n",
    "music.index[1:5] # [0]은 자기 자신이므로 제외"
   ]
  }
 ],
 "metadata": {
  "accelerator": "GPU",
  "colab": {
   "collapsed_sections": [],
   "provenance": []
  },
  "kernelspec": {
   "display_name": "yoona",
   "language": "python",
   "name": "yoona"
  },
  "language_info": {
   "codemirror_mode": {
    "name": "ipython",
    "version": 3
   },
   "file_extension": ".py",
   "mimetype": "text/x-python",
   "name": "python",
   "nbconvert_exporter": "python",
   "pygments_lexer": "ipython3",
   "version": "3.7.0"
  }
 },
 "nbformat": 4,
 "nbformat_minor": 1
}
