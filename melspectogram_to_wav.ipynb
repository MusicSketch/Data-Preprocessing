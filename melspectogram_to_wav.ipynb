{
 "cells": [
  {
   "cell_type": "code",
   "execution_count": null,
   "metadata": {
    "id": "r2maEf9OYg94"
   },
   "outputs": [],
   "source": [
    "!pip install librosa"
   ]
  },
  {
   "cell_type": "code",
   "execution_count": null,
   "metadata": {
    "id": "P163PkD2pNaK"
   },
   "outputs": [],
   "source": [
    "!pip install scipy"
   ]
  },
  {
   "cell_type": "code",
   "execution_count": null,
   "metadata": {
    "id": "y70hpkFPpxcq"
   },
   "outputs": [],
   "source": [
    "!pip list"
   ]
  },
  {
   "cell_type": "code",
   "execution_count": null,
   "metadata": {
    "id": "lEjpeS5opcq5"
   },
   "outputs": [],
   "source": []
  },
  {
   "cell_type": "code",
   "execution_count": null,
   "metadata": {
    "id": "4GOW_LCxYGhc"
   },
   "outputs": [],
   "source": [
    "import numpy as np\n",
    "import matplotlib.pyplot as plt\n",
    "import librosa\n",
    "import librosa.display\n",
    "import soundfile\n",
    "\n",
    "mel = np.load(\"0.npy\")\n",
    "sr =16000\n",
    "hop_length = int( np.ceil(sr*0.01) )\n",
    "#win_length = int( np.ceil(sr*0.025) )\n",
    "#n_fft = int( np.ceil(sr*0.025) )\n",
    "hop_length = 256\n",
    "win_length = 512\n",
    "\n",
    "#numbands=48, sampleRate=16000, frameSize=512, hopSize=256, window='hann', weighting='linear', warpingFormula='slaneyMel', normalize='unit_tri'\n",
    "\n",
    "wav_data_2 = librosa.feature.inverse.mel_to_audio(mel,sr=sr, \n",
    "                                           n_fft=512, \n",
    "                                           hop_length=256, \n",
    "                                           win_length=512, \n",
    "                                           window='hann', \n",
    "                                           center=False, \n",
    "                                           pad_mode='reflect', \n",
    "                                           power=2.0,\n",
    "                                           norm = 'slaney',\n",
    "                                           n_iter=48)\n",
    "saved_file = 'test.wav'\n",
    "soundfile.write(saved_file, wav_data_2, sr)\n"
   ]
  },
  {
   "cell_type": "code",
   "execution_count": null,
   "metadata": {
    "id": "AJx0SSEBgJ-p"
   },
   "outputs": [],
   "source": [
    "import IPython.display as ipd\n",
    "ipd.Audio('test.wav',rate=16000)"
   ]
  },
  {
   "cell_type": "code",
   "execution_count": null,
   "metadata": {
    "id": "yYAJS1TQZmik"
   },
   "outputs": [],
   "source": [
    "mel.shape"
   ]
  },
  {
   "cell_type": "code",
   "execution_count": null,
   "metadata": {
    "id": "bqeYhagBfXv4"
   },
   "outputs": [],
   "source": [
    "len(s)"
   ]
  },
  {
   "cell_type": "code",
   "execution_count": null,
   "metadata": {
    "id": "wM5VERqofxsD"
   },
   "outputs": [],
   "source": [
    "mel"
   ]
  },
  {
   "cell_type": "code",
   "execution_count": null,
   "metadata": {
    "id": "gdP12m9hluwC"
   },
   "outputs": [],
   "source": [
    "my_audio_as_np_array, my_sample_rate= librosa.load(\"333.mp3\")\n",
    "\n",
    "# step2 - converting audio np array to spectrogram\n",
    "spec = librosa.feature.melspectrogram(y=my_audio_as_np_array,\n",
    "                                        sr=my_sample_rate, \n",
    "                                            n_fft=2048, \n",
    "                                            hop_length=512, \n",
    "                                            win_length=None, \n",
    "                                            window='hann', \n",
    "                                            center=True, \n",
    "                                            pad_mode='reflect', \n",
    "                                            power=2.0,\n",
    "                                     n_mels=128)\n",
    "\n",
    "# step3 converting mel-spectrogrma back to wav file\n",
    "spec = np.load(\"0.npy\")\n",
    "\n",
    "res = librosa.feature.inverse.mel_to_audio(spec, \n",
    "                                           sr=my_sample_rate, \n",
    "                                           n_fft=2048, \n",
    "                                           hop_length=512, \n",
    "                                           win_length=None, \n",
    "                                           window='hann', \n",
    "                                           center=True, \n",
    "                                           pad_mode='reflect', \n",
    "                                           power=2.0, \n",
    "                                           n_iter=32)\n",
    "\n",
    "# step4 - save it as a wav file\n",
    "import soundfile as sf\n",
    "sf.write(\"test1.wav\", res, 22050)"
   ]
  },
  {
   "cell_type": "code",
   "execution_count": null,
   "metadata": {
    "id": "UlR2lAA-CH2I"
   },
   "outputs": [],
   "source": [
    "spec = np.load(\"0.npy\")\n",
    "\n",
    "res = librosa.feature.inverse.mel_to_audio(spec, \n",
    "                                           sr=16000, \n",
    "                                           n_fft=512, \n",
    "                                           hop_length=256, \n",
    "                                           win_length=512, \n",
    "                                           window='hann', \n",
    "                                           center=True, \n",
    "                                           pad_mode='reflect', \n",
    "                                           power=2.0, \n",
    "                                           n_iter=32)\n",
    "\n",
    "# step4 - save it as a wav file\n",
    "import soundfile as sf\n",
    "sf.write(\"test1.wav\", res, 16000)"
   ]
  },
  {
   "cell_type": "code",
   "execution_count": null,
   "metadata": {
    "id": "0sEYRfkWCMHj"
   },
   "outputs": [],
   "source": [
    "import IPython.display as ipd\n",
    "ipd.Audio('test1.wav',rate=16000)"
   ]
  }
 ],
 "metadata": {
  "accelerator": "GPU",
  "colab": {
   "private_outputs": true,
   "provenance": []
  },
  "kernelspec": {
   "display_name": "Python 3 (ipykernel)",
   "language": "python",
   "name": "python3"
  },
  "language_info": {
   "codemirror_mode": {
    "name": "ipython",
    "version": 3
   },
   "file_extension": ".py",
   "mimetype": "text/x-python",
   "name": "python",
   "nbconvert_exporter": "python",
   "pygments_lexer": "ipython3",
   "version": "3.7.0"
  }
 },
 "nbformat": 4,
 "nbformat_minor": 1
}
