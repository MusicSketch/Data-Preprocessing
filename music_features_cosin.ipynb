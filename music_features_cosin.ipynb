{
 "cells": [
  {
   "cell_type": "code",
   "execution_count": 3,
   "id": "56d588d2",
   "metadata": {},
   "outputs": [],
   "source": [
    "# 멜스펙토그램 이미지로 변환\n",
    "import numpy as np\n",
    "import matplotlib.pyplot as plt\n",
    "import librosa\n",
    "import librosa.display\n",
    "import soundfile\n",
    "\n",
    "#path = \"C:\\\\Users\\\\HP\\Desktop\\\\mtvs-ai\\\\9월프젝\\\\arena_mel\\\\\"\n",
    "#for x in range(17):\n",
    "#    file_path = os.path.join(path + str(x))\n",
    "    \n",
    "    \n",
    "mel = np.load(\"C:\\\\Users\\\\HP\\\\Desktop\\\\mtvs-ai\\\\9월프젝\\\\arena_mel\\\\0\\\\1.npy\")\n",
    "sr =16000\n",
    "hop_length = 256\n",
    "win_length = 512\n",
    "wav_data_2 = librosa.feature.inverse.mel_to_audio(mel, sr=sr, n_fft=1024, hop_length=hop_length, win_length=win_length, center=False)\n",
    "saved_file = 'test.wav'\n",
    "soundfile.write(saved_file, wav_data_2, sr)"
   ]
  },
  {
   "cell_type": "code",
   "execution_count": null,
   "id": "881aa23e",
   "metadata": {},
   "outputs": [],
   "source": []
  }
 ],
 "metadata": {
  "kernelspec": {
   "display_name": "yoona",
   "language": "python",
   "name": "yoona"
  },
  "language_info": {
   "codemirror_mode": {
    "name": "ipython",
    "version": 3
   },
   "file_extension": ".py",
   "mimetype": "text/x-python",
   "name": "python",
   "nbconvert_exporter": "python",
   "pygments_lexer": "ipython3",
   "version": "3.7.0"
  }
 },
 "nbformat": 4,
 "nbformat_minor": 5
}
